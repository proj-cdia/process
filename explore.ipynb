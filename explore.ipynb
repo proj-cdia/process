{
 "cells": [
  {
   "cell_type": "code",
   "execution_count": 1,
   "metadata": {},
   "outputs": [],
   "source": [
    "import pandas as pd\n",
    "import json\n",
    "import os\n",
    "from bs4 import BeautifulSoup\n",
    "import re\n",
    "from unidecode import unidecode\n",
    "\n",
    "import warnings\n",
    "warnings.filterwarnings(\"ignore\")"
   ]
  },
  {
   "cell_type": "code",
   "execution_count": 2,
   "metadata": {},
   "outputs": [],
   "source": [
    "def cleanHTML(html):\n",
    "    \"\"\"Formata o HTML recebido e retorna somente o texto\"\"\"\n",
    "    return BeautifulSoup(html, \"html.parser\").text"
   ]
  },
  {
   "cell_type": "code",
   "execution_count": 3,
   "metadata": {},
   "outputs": [],
   "source": [
    "def refineCategory(categories:list) -> list:\n",
    "    \"\"\"Dado o padrão com que as categorias são recebidas, retorna uma lista com os elementos exclusivos contidos nas categorias\"\"\"\n",
    "    elements = []\n",
    "    for cat in categories:\n",
    "        c = cat.split(\"/\")\n",
    "        for element in c:\n",
    "            if element != \"\":\n",
    "                elements.append(element)\n",
    "    elements = list(set(elements))\n",
    "    elements = [unidecode(element.upper()) for element in elements]\n",
    "    return elements"
   ]
  },
  {
   "cell_type": "code",
   "execution_count": 4,
   "metadata": {},
   "outputs": [],
   "source": [
    "def normText(text:str) -> str:\n",
    "    \"\"\"Normaliza o texto retirando acentuação e colocando totalmente em letras maiúsculas\"\"\"\n",
    "    return unidecode(text).upper()"
   ]
  },
  {
   "cell_type": "code",
   "execution_count": 7,
   "metadata": {},
   "outputs": [
    {
     "data": {
      "text/plain": [
       "['multi_100_to_149.json',\n",
       " 'multi_150_to_199.json',\n",
       " 'muti_200_to_249.json',\n",
       " 'produtos_multi.json']"
      ]
     },
     "execution_count": 7,
     "metadata": {},
     "output_type": "execute_result"
    }
   ],
   "source": [
    "json_file_names = [filename for filename in os.listdir(\"D:/Users/joaom/Pucrs/6° SEMESTRE/Projeto em Ciência de Dados I/Dataset Kobe\") if filename.endswith('.json')]\n",
    "json_file_names"
   ]
  },
  {
   "cell_type": "code",
   "execution_count": 8,
   "metadata": {},
   "outputs": [],
   "source": [
    "produtos = pd.DataFrame()\n",
    "\n",
    "for json_file in json_file_names:\n",
    "    produtos = pd.concat([produtos,pd.read_json(rf\"D:/Users/joaom/Pucrs/6° SEMESTRE/Projeto em Ciência de Dados I/Dataset Kobe/{json_file}\")]).reset_index(drop=True)"
   ]
  },
  {
   "cell_type": "code",
   "execution_count": 9,
   "metadata": {},
   "outputs": [],
   "source": [
    "colunas = [\"productId\",\"productName\",\"brand\",\"metaTagDescription\",\"description\",\"categories\",\"linkText\",\"link\"]\n",
    "df_filtrado = produtos[colunas]"
   ]
  },
  {
   "cell_type": "code",
   "execution_count": 10,
   "metadata": {},
   "outputs": [
    {
     "data": {
      "text/plain": [
       "0      O fone de ouvido Sony traz o novo processador ...\n",
       "1      Evolve BT Multilaser, um novo conceito em som ...\n",
       "2      O seu cão feliz e sua casa mais limpa O tapete...\n",
       "3      A Mochila Executive te oferece conforto, prati...\n",
       "4      Smartphones. tablets e outros dispositivos.Has...\n",
       "                             ...                        \n",
       "195    Com a Balança Digital BioHealth da linha Multi...\n",
       "196    O Monitor De Pressão De Pulso da linha Multi S...\n",
       "197    MOMENTO DE TRANQUILIDADE COM O DIFUSOR DE AROM...\n",
       "198    Qualidade sonora surpreendenteIdeal para smart...\n",
       "199    LIVRE-SE DEFINITIVAMENTE DOS PELOS SEM DORSUA ...\n",
       "Name: description, Length: 200, dtype: object"
      ]
     },
     "execution_count": 10,
     "metadata": {},
     "output_type": "execute_result"
    }
   ],
   "source": [
    "df_filtrado[\"description\"] = df_filtrado[\"description\"].apply(cleanHTML)\n",
    "df_filtrado[\"description\"] = df_filtrado[\"description\"].str.replace(\"\\n\",\"\")\n",
    "df_filtrado[\"description\"] = df_filtrado[\"description\"].str.replace(\"\\r\",\"\")\n",
    "# df_filtrado[\"description\"] = df_filtrado[\"description\"].apply(normText)\n",
    "df_filtrado[\"description\"]"
   ]
  },
  {
   "cell_type": "code",
   "execution_count": 11,
   "metadata": {},
   "outputs": [
    {
     "data": {
      "text/plain": [
       "0      [AUDIO, FONES DE OUVIDO, FONE DE OUVIDO BLUETO...\n",
       "1      [MULTILASER, AUTOMOTIVO, RADIO PARA CARRO, SOM...\n",
       "2      [HIGIENE, BLUE, CACHORROS, MULTILASER, MIMO, T...\n",
       "3      [MULTILASER, INFORMATICA E TABLETS, BOLSAS, MO...\n",
       "4      [MULTILASER, SMARTPHONES E CELULARES, ACESSORI...\n",
       "                             ...                        \n",
       "195    [MULTILASER, CONTROLE DO PESO, SAUDE E BEM EST...\n",
       "196    [MULTILASER, SAUDE E BEM ESTAR, MONITORES DE P...\n",
       "197    [MULTILASER, DIFUSOR DE AROMAS, SAUDE E BEM ES...\n",
       "198    [MULTILASER, SMARTPHONES E CELULARES, ACESSORI...\n",
       "199    [CUIDADOS COM A PELE, BELEZA, MULTILASER, MULT...\n",
       "Name: filtered_categories, Length: 200, dtype: object"
      ]
     },
     "execution_count": 11,
     "metadata": {},
     "output_type": "execute_result"
    }
   ],
   "source": [
    "df_filtrado[\"filtered_categories\"] = df_filtrado[\"categories\"].apply(refineCategory)\n",
    "df_filtrado[\"filtered_categories\"]"
   ]
  },
  {
   "cell_type": "code",
   "execution_count": 27,
   "metadata": {},
   "outputs": [],
   "source": [
    "# df_filtrado[\"productName\"] = df_filtrado[\"productName\"].apply(normText)\n",
    "# df_filtrado[\"metaTagDescription\"] = df_filtrado[\"metaTagDescription\"].apply(normText)"
   ]
  },
  {
   "cell_type": "code",
   "execution_count": 12,
   "metadata": {},
   "outputs": [
    {
     "data": {
      "text/plain": [
       "'O fone de ouvido Sony traz o novo processador HDQN1 foi reconfigurado e ficou muito mais rápido. conseguindo analisar até 700x por segundo a informação que recebe. e assim cancelar o ruído de maneira muito mais rápida e eficaz. Além disso. possui o sistema SoC (System on Chip) no Bluetooth que auxilia na agilidade do processamento de dados e qualidade de áudio. Usando o Edge-AI (inteligência artificial). o DSEE Extreme™ aprimora os arquivos de música digital compactados em tempo real. Ele restaura o som de alto alcance perdido na compactação. reconhecendo dinamicamente instrumentos. gêneros musicais e elementos individuais das músicas. como vocais ou interlúdios. para uma experiência de audição mais rica e completa. O LDAC transmite cerca de três vezes mais dados (a uma taxa de transferência máxima de 990 Kbps) que o áudio BLUETOOTH convencional. permitindo que você curta conteúdo de Áudio de alta resolução com qualidade. o mais próximo possível de uma conexão com fio dedicada. Quando estiver se deslocando. ajuste o som ambiente com o aplicativo Sony | Headphones Connect para cancelar os ruídos e poder ouvir os sons essenciais. como anúncios de transporte por exemplo. Os headphones usam diversas tecnologias avançadas para criar uma experiência de audição em estilo mãos-livre. Por exemplo. basta começar a falar para pausar automaticamente a música. no modo Falar para bater papo. ou desfrutar da reprodução adaptável. graças ao sensor de proximidade a dois sensores de aceleração que detectam se os headphones estão sendo usados ou não. O Adaptive Sound Control é uma função inteligente que detecta onde você está e o que está fazendo. e então. ajusta as configurações de som ambiente para proporcionar a melhor experiência de audição. O sensor de proximidade e os dois sensores de aceleração nos headphones podem detectar se eles estão sendo usados ou não. e então. adaptar a reprodução para ajudar a economizar a alimentação da bateria. Precisa ouvir rapidamente vozes ou sons ao seu redor? Basta colocar a mão sobre a concha para diminuir instantaneamente o volume da música e liberar o som ambiente. Com bateria de 30 horas de duração. você terá carga suficiente mesmo em viagens longas. E caso necessite de uma carga rápida. pode ter até 5 horas de carga com apenas 10 minutos com o adaptador CA opcional. Gerencie seu dia. apenas pedindo para seu assistente. Aproveite o entretenimento. conecte-se com amigos. informe-se. ouça músicas e notificações. defina lembretes e muito mais com o assistente de voz. Mude a música. aumente ou diminua o volume e faça ou atenda chamadas apenas tocando ou deslizando o painel. Mergulhe no som ao seu redor. tão real quanto estar em um concerto ao vivo ou junto com o artista no estúdio. Estes headphones permitem que você curta o 360 Reality Áudio.Imagens meramente ilustrativas.'"
      ]
     },
     "execution_count": 12,
     "metadata": {},
     "output_type": "execute_result"
    }
   ],
   "source": [
    "df_filtrado[\"description\"][0]"
   ]
  },
  {
   "cell_type": "code",
   "execution_count": 30,
   "metadata": {},
   "outputs": [
    {
     "data": {
      "text/html": [
       "<div>\n",
       "<style scoped>\n",
       "    .dataframe tbody tr th:only-of-type {\n",
       "        vertical-align: middle;\n",
       "    }\n",
       "\n",
       "    .dataframe tbody tr th {\n",
       "        vertical-align: top;\n",
       "    }\n",
       "\n",
       "    .dataframe thead th {\n",
       "        text-align: right;\n",
       "    }\n",
       "</style>\n",
       "<table border=\"1\" class=\"dataframe\">\n",
       "  <thead>\n",
       "    <tr style=\"text-align: right;\">\n",
       "      <th></th>\n",
       "      <th>productId</th>\n",
       "      <th>productName</th>\n",
       "      <th>brand</th>\n",
       "      <th>metaTagDescription</th>\n",
       "      <th>description</th>\n",
       "      <th>categories</th>\n",
       "      <th>linkText</th>\n",
       "      <th>link</th>\n",
       "      <th>filtered_categories</th>\n",
       "    </tr>\n",
       "  </thead>\n",
       "  <tbody>\n",
       "    <tr>\n",
       "      <th>0</th>\n",
       "      <td>8745</td>\n",
       "      <td>Fone de Ouvido Sony Sem Fio Preto - WH1000XM4BMUC</td>\n",
       "      <td>Sony</td>\n",
       "      <td>Mergulhe no som ao seu redor, tão real quanto ...</td>\n",
       "      <td>O fone de ouvido Sony traz o novo processador ...</td>\n",
       "      <td>[/Sony/Fone de Ouvido Bluetooth/, /Sony/, /Mul...</td>\n",
       "      <td>fone-de-ouvido-sem-fio-sony-preto-wh1000xm4bmuc</td>\n",
       "      <td>https://multilaser.vtexcommercestable.com.br/f...</td>\n",
       "      <td>[AUDIO, FONES DE OUVIDO, FONE DE OUVIDO BLUETO...</td>\n",
       "    </tr>\n",
       "    <tr>\n",
       "      <th>1</th>\n",
       "      <td>8533</td>\n",
       "      <td>Som Automotivo Evolve BT 4x35W RMS 12V Multila...</td>\n",
       "      <td>Multilaser</td>\n",
       "      <td>Evolve BT Multilaser, um novo conceito em som ...</td>\n",
       "      <td>Evolve BT Multilaser, um novo conceito em som ...</td>\n",
       "      <td>[/Multilaser/Automotivo/Som Automotivo/Rádio p...</td>\n",
       "      <td>som-automotivo-evolve-bt-4x35w-rms-12v-multila...</td>\n",
       "      <td>https://multilaser.vtexcommercestable.com.br/s...</td>\n",
       "      <td>[MULTILASER, AUTOMOTIVO, RADIO PARA CARRO, SOM...</td>\n",
       "    </tr>\n",
       "    <tr>\n",
       "      <th>2</th>\n",
       "      <td>8476</td>\n",
       "      <td>Tapete Higiênico One Pads 30 unidades 70x60cm ...</td>\n",
       "      <td>Blue</td>\n",
       "      <td>Os tapetes higiênicos One Pads ajudam a manter...</td>\n",
       "      <td>O seu cão feliz e sua casa mais limpa O tapete...</td>\n",
       "      <td>[/Mimo/Cachorros/Higiene/Tapete Higiênico/, /M...</td>\n",
       "      <td>tapete-higienico-one-pads-30-unidades-70x60cm-...</td>\n",
       "      <td>https://multilaser.vtexcommercestable.com.br/t...</td>\n",
       "      <td>[HIGIENE, BLUE, CACHORROS, MULTILASER, MIMO, T...</td>\n",
       "    </tr>\n",
       "    <tr>\n",
       "      <th>3</th>\n",
       "      <td>8424</td>\n",
       "      <td>Mochila Executive Para Notebook até 15.6 Pol P...</td>\n",
       "      <td>Multilaser</td>\n",
       "      <td>Conforto, praticidade e design onde você for!</td>\n",
       "      <td>A Mochila Executive te oferece conforto, prati...</td>\n",
       "      <td>[/Multilaser/Informática e Tablets/Informática...</td>\n",
       "      <td>mochila-executiva-para-notebook-at-156-pol-pre...</td>\n",
       "      <td>https://multilaser.vtexcommercestable.com.br/m...</td>\n",
       "      <td>[MULTILASER, INFORMATICA E TABLETS, BOLSAS, MO...</td>\n",
       "    </tr>\n",
       "    <tr>\n",
       "      <th>4</th>\n",
       "      <td>8276</td>\n",
       "      <td>Fone de Ouvido Pop Bluetooth P2 Preto Multilas...</td>\n",
       "      <td>Multilaser</td>\n",
       "      <td>Os Melhores Fones de Ouvido Aqui! Adquira o Fo...</td>\n",
       "      <td>Smartphones. tablets e outros dispositivos.Has...</td>\n",
       "      <td>[/Multilaser/Smartphones e Celulares/Acessório...</td>\n",
       "      <td>fone-de-ouvido-pop-bluetooth-p2-preto-multilas...</td>\n",
       "      <td>https://multilaser.vtexcommercestable.com.br/f...</td>\n",
       "      <td>[MULTILASER, SMARTPHONES E CELULARES, ACESSORI...</td>\n",
       "    </tr>\n",
       "  </tbody>\n",
       "</table>\n",
       "</div>"
      ],
      "text/plain": [
       "   productId                                        productName       brand  \\\n",
       "0       8745  Fone de Ouvido Sony Sem Fio Preto - WH1000XM4BMUC        Sony   \n",
       "1       8533  Som Automotivo Evolve BT 4x35W RMS 12V Multila...  Multilaser   \n",
       "2       8476  Tapete Higiênico One Pads 30 unidades 70x60cm ...        Blue   \n",
       "3       8424  Mochila Executive Para Notebook até 15.6 Pol P...  Multilaser   \n",
       "4       8276  Fone de Ouvido Pop Bluetooth P2 Preto Multilas...  Multilaser   \n",
       "\n",
       "                                  metaTagDescription  \\\n",
       "0  Mergulhe no som ao seu redor, tão real quanto ...   \n",
       "1  Evolve BT Multilaser, um novo conceito em som ...   \n",
       "2  Os tapetes higiênicos One Pads ajudam a manter...   \n",
       "3      Conforto, praticidade e design onde você for!   \n",
       "4  Os Melhores Fones de Ouvido Aqui! Adquira o Fo...   \n",
       "\n",
       "                                         description  \\\n",
       "0  O fone de ouvido Sony traz o novo processador ...   \n",
       "1  Evolve BT Multilaser, um novo conceito em som ...   \n",
       "2  O seu cão feliz e sua casa mais limpa O tapete...   \n",
       "3  A Mochila Executive te oferece conforto, prati...   \n",
       "4  Smartphones. tablets e outros dispositivos.Has...   \n",
       "\n",
       "                                          categories  \\\n",
       "0  [/Sony/Fone de Ouvido Bluetooth/, /Sony/, /Mul...   \n",
       "1  [/Multilaser/Automotivo/Som Automotivo/Rádio p...   \n",
       "2  [/Mimo/Cachorros/Higiene/Tapete Higiênico/, /M...   \n",
       "3  [/Multilaser/Informática e Tablets/Informática...   \n",
       "4  [/Multilaser/Smartphones e Celulares/Acessório...   \n",
       "\n",
       "                                            linkText  \\\n",
       "0    fone-de-ouvido-sem-fio-sony-preto-wh1000xm4bmuc   \n",
       "1  som-automotivo-evolve-bt-4x35w-rms-12v-multila...   \n",
       "2  tapete-higienico-one-pads-30-unidades-70x60cm-...   \n",
       "3  mochila-executiva-para-notebook-at-156-pol-pre...   \n",
       "4  fone-de-ouvido-pop-bluetooth-p2-preto-multilas...   \n",
       "\n",
       "                                                link  \\\n",
       "0  https://multilaser.vtexcommercestable.com.br/f...   \n",
       "1  https://multilaser.vtexcommercestable.com.br/s...   \n",
       "2  https://multilaser.vtexcommercestable.com.br/t...   \n",
       "3  https://multilaser.vtexcommercestable.com.br/m...   \n",
       "4  https://multilaser.vtexcommercestable.com.br/f...   \n",
       "\n",
       "                                 filtered_categories  \n",
       "0  [AUDIO, FONES DE OUVIDO, FONE DE OUVIDO BLUETO...  \n",
       "1  [MULTILASER, AUTOMOTIVO, RADIO PARA CARRO, SOM...  \n",
       "2  [HIGIENE, BLUE, CACHORROS, MULTILASER, MIMO, T...  \n",
       "3  [MULTILASER, INFORMATICA E TABLETS, BOLSAS, MO...  \n",
       "4  [MULTILASER, SMARTPHONES E CELULARES, ACESSORI...  "
      ]
     },
     "metadata": {},
     "output_type": "display_data"
    }
   ],
   "source": [
    "display(df_filtrado[0:5])"
   ]
  },
  {
   "cell_type": "code",
   "execution_count": 29,
   "metadata": {},
   "outputs": [],
   "source": [
    "df_filtrado.to_csv('./PROCESS.csv', index=False)"
   ]
  },
  {
   "cell_type": "markdown",
   "metadata": {},
   "source": [
    "___\n",
    "# Modelo\n",
    "___\n"
   ]
  },
  {
   "cell_type": "markdown",
   "metadata": {},
   "source": [
    "## BERTimbau Base (aka \"bert-base-portuguese-cased\")\n",
    "\n",
    "https://huggingface.co/neuralmind/bert-base-portuguese-cased"
   ]
  },
  {
   "cell_type": "code",
   "execution_count": 30,
   "metadata": {},
   "outputs": [
    {
     "name": "stderr",
     "output_type": "stream",
     "text": [
      "Downloading (…)lve/main/config.json: 100%|██████████| 863/863 [00:00<00:00, 847kB/s]\n",
      "Downloading pytorch_model.bin: 100%|██████████| 436M/436M [00:40<00:00, 10.7MB/s] \n",
      "Some weights of BertForPreTraining were not initialized from the model checkpoint at rufimelo/Legal-BERTimbau-base and are newly initialized: ['bert.pooler.dense.bias', 'cls.seq_relationship.bias', 'cls.seq_relationship.weight', 'bert.pooler.dense.weight']\n",
      "You should probably TRAIN this model on a down-stream task to be able to use it for predictions and inference.\n",
      "Downloading (…)okenizer_config.json: 100%|██████████| 567/567 [00:00<00:00, 420kB/s]\n",
      "Downloading (…)solve/main/vocab.txt: 100%|██████████| 210k/210k [00:00<00:00, 964kB/s] \n",
      "Downloading (…)cial_tokens_map.json: 100%|██████████| 125/125 [00:00<00:00, 115kB/s]\n"
     ]
    }
   ],
   "source": [
    "from transformers import AutoTokenizer  # Or BertTokenizer\n",
    "from transformers import AutoModelForPreTraining  # Or BertForPreTraining for loading pretraining heads\n",
    "from transformers import AutoModel  # or BertModel, for BERT without pretraining heads\n",
    "\n",
    "model_name = 'rufimelo/Legal-BERTimbau-base'\n",
    "model = AutoModelForPreTraining.from_pretrained(model_name)\n",
    "tokenizer = AutoTokenizer.from_pretrained(model_name, do_lower_case=False)"
   ]
  },
  {
   "cell_type": "code",
   "execution_count": 31,
   "metadata": {},
   "outputs": [
    {
     "data": {
      "text/plain": [
       "[{'score': 0.08811705559492111,\n",
       "  'token': 119,\n",
       "  'token_str': '.',\n",
       "  'sequence': 'Mochila Executive Para..'},\n",
       " {'score': 0.06688158214092255,\n",
       "  'token': 131,\n",
       "  'token_str': ':',\n",
       "  'sequence': 'Mochila Executive Para :.'},\n",
       " {'score': 0.04625271260738373,\n",
       "  'token': 705,\n",
       "  'token_str': '##gem',\n",
       "  'sequence': 'Mochila Executive Paragem.'},\n",
       " {'score': 0.018698927015066147,\n",
       "  'token': 3872,\n",
       "  'token_str': 'transporte',\n",
       "  'sequence': 'Mochila Executive Para transporte.'},\n",
       " {'score': 0.016532042995095253,\n",
       "  'token': 4859,\n",
       "  'token_str': 'Todos',\n",
       "  'sequence': 'Mochila Executive Para Todos.'}]"
      ]
     },
     "execution_count": 31,
     "metadata": {},
     "output_type": "execute_result"
    }
   ],
   "source": [
    "from transformers import pipeline\n",
    "\n",
    "pipe = pipeline('fill-mask', model=model_name, tokenizer=tokenizer)\n",
    "\n",
    "pipe('Mochila Executiva Para [MASK].')"
   ]
  },
  {
   "cell_type": "markdown",
   "metadata": {},
   "source": [
    "## pierreguillou/bert-large-cased-squad-v1.1-portuguese\n",
    "\n",
    "https://huggingface.co/pierreguillou/bert-large-cased-squad-v1.1-portuguese"
   ]
  },
  {
   "cell_type": "code",
   "execution_count": 32,
   "metadata": {},
   "outputs": [
    {
     "name": "stderr",
     "output_type": "stream",
     "text": [
      "Downloading (…)lve/main/config.json: 100%|██████████| 918/918 [00:00<00:00, 539kB/s]\n",
      "Downloading pytorch_model.bin: 100%|██████████| 1.33G/1.33G [02:15<00:00, 9.86MB/s]\n",
      "Downloading (…)okenizer_config.json: 100%|██████████| 506/506 [00:00<00:00, 193kB/s]\n",
      "Downloading (…)solve/main/vocab.txt: 100%|██████████| 210k/210k [00:00<00:00, 264kB/s]\n",
      "Downloading (…)cial_tokens_map.json: 100%|██████████| 112/112 [00:00<00:00, 86.4kB/s]\n"
     ]
    },
    {
     "name": "stdout",
     "output_type": "stream",
     "text": [
      "Answer: 'dezembro de 2019', score: 0.5087, start: 290, end: 306\n"
     ]
    }
   ],
   "source": [
    "# import transformers\n",
    "# from transformers import pipeline\n",
    "\n",
    "# source: https://pt.wikipedia.org/wiki/Pandemia_de_COVID-19\n",
    "context = r\"\"\"\n",
    "A pandemia de COVID-19, também conhecida como pandemia de coronavírus, é uma pandemia em curso de COVID-19, \n",
    "uma doença respiratória causada pelo coronavírus da síndrome respiratória aguda grave 2 (SARS-CoV-2). \n",
    "O vírus tem origem zoonótica e o primeiro caso conhecido da doença remonta a dezembro de 2019 em Wuhan, na China. \n",
    "Em 20 de janeiro de 2020, a Organização Mundial da Saúde (OMS) classificou o surto \n",
    "como Emergência de Saúde Pública de Âmbito Internacional e, em 11 de março de 2020, como pandemia. \n",
    "Em 18 de junho de 2021, 177 349 274 casos foram confirmados em 192 países e territórios, \n",
    "com 3 840 181 mortes atribuídas à doença, tornando-se uma das pandemias mais mortais da história.\n",
    "Os sintomas de COVID-19 são altamente variáveis, variando de nenhum a doenças com risco de morte. \n",
    "O vírus se espalha principalmente pelo ar quando as pessoas estão perto umas das outras. \n",
    "Ele deixa uma pessoa infectada quando ela respira, tosse, espirra ou fala e entra em outra pessoa pela boca, nariz ou olhos.\n",
    "Ele também pode se espalhar através de superfícies contaminadas. \n",
    "As pessoas permanecem contagiosas por até duas semanas e podem espalhar o vírus mesmo se forem assintomáticas.\n",
    "\"\"\"\n",
    "\n",
    "model_name = 'pierreguillou/bert-large-cased-squad-v1.1-portuguese'\n",
    "nlp = pipeline(\"question-answering\", model=model_name)\n",
    "\n",
    "question = \"Quando começou a pandemia de Covid-19 no mundo?\"\n",
    "\n",
    "result = nlp(question=question, context=context)\n",
    "\n",
    "print(f\"Answer: '{result['answer']}', score: {round(result['score'], 4)}, start: {result['start']}, end: {result['end']}\")\n",
    "\n",
    "# Answer: 'dezembro de 2019', score: 0.5087, start: 290, end: 306\n"
   ]
  },
  {
   "cell_type": "code",
   "execution_count": 52,
   "metadata": {},
   "outputs": [
    {
     "name": "stdout",
     "output_type": "stream",
     "text": [
      "O fone de ouvido Sony traz o novo processador HDQN1 foi reconfigurado e ficou muito mais rápido. conseguindo analisar até 700x por segundo a informação que recebe. e assim cancelar o ruído de maneira muito mais rápida e eficaz. Além disso. possui o sistema SoC (System on Chip) no Bluetooth que auxilia na agilidade do processamento de dados e qualidade de áudio. Usando o Edge-AI (inteligência artificial). o DSEE Extreme™ aprimora os arquivos de música digital compactados em tempo real. Ele restaura o som de alto alcance perdido na compactação. reconhecendo dinamicamente instrumentos. gêneros musicais e elementos individuais das músicas. como vocais ou interlúdios. para uma experiência de audição mais rica e completa. O LDAC transmite cerca de três vezes mais dados (a uma taxa de transferência máxima de 990 Kbps) que o áudio BLUETOOTH convencional. permitindo que você curta conteúdo de Áudio de alta resolução com qualidade. o mais próximo possível de uma conexão com fio dedicada. Quando estiver se deslocando. ajuste o som ambiente com o aplicativo Sony | Headphones Connect para cancelar os ruídos e poder ouvir os sons essenciais. como anúncios de transporte por exemplo. Os headphones usam diversas tecnologias avançadas para criar uma experiência de audição em estilo mãos-livre. Por exemplo. basta começar a falar para pausar automaticamente a música. no modo Falar para bater papo. ou desfrutar da reprodução adaptável. graças ao sensor de proximidade a dois sensores de aceleração que detectam se os headphones estão sendo usados ou não. O Adaptive Sound Control é uma função inteligente que detecta onde você está e o que está fazendo. e então. ajusta as configurações de som ambiente para proporcionar a melhor experiência de audição. O sensor de proximidade e os dois sensores de aceleração nos headphones podem detectar se eles estão sendo usados ou não. e então. adaptar a reprodução para ajudar a economizar a alimentação da bateria. Precisa ouvir rapidamente vozes ou sons ao seu redor? Basta colocar a mão sobre a concha para diminuir instantaneamente o volume da música e liberar o som ambiente. Com bateria de 30 horas de duração. você terá carga suficiente mesmo em viagens longas. E caso necessite de uma carga rápida. pode ter até 5 horas de carga com apenas 10 minutos com o adaptador CA opcional. Gerencie seu dia. apenas pedindo para seu assistente. Aproveite o entretenimento. conecte-se com amigos. informe-se. ouça músicas e notificações. defina lembretes e muito mais com o assistente de voz. Mude a música. aumente ou diminua o volume e faça ou atenda chamadas apenas tocando ou deslizando o painel. Mergulhe no som ao seu redor. tão real quanto estar em um concerto ao vivo ou junto com o artista no estúdio. Estes headphones permitem que você curta o 360 Reality Áudio.Imagens meramente ilustrativas.\n",
      "Produto: '.', score: 0.2443, start: 2749, end: 2750\n",
      "Marca: 'Sony', score: 0.465, start: 17, end: 21\n",
      "\n",
      "Evolve BT Multilaser, um novo conceito em som automotivo. Muito mais tecnologia, entretenimento e qualidade de som para você e seu carro. O Evolvet BT possui diversas funções como: . Reprodução de dados. Função carregador. Possui 2 saídas RCA. Controle remoto. Potência de 4x35W. Amplificador de áudio dedicado. Rádio FM. Relógio digital. Equalização . Função troca pastaO Evolve BT da Multilaser é um som automotivo que possui tudo o que você procura.Imagens meramente ilustrativas.\n",
      "Produto: 'Evolve BT Multilaser', score: 0.8246, start: 0, end: 20\n",
      "Marca: 'Multilaser', score: 0.8326, start: 10, end: 20\n",
      "\n",
      "O seu cão feliz e sua casa mais limpa O tapete higiênico para cães One Pads Multi 70x60 cm ajuda a cuidar do seu pet com amor, proporcionando um espaço adequado, confortável e limpo para que ele faça suas necessidades. Com uma estampa decorativa na lateral, acrescenta estilo e se adapta perfeitamente a qualquer ambiente.Camadas de proteção absorventeO tapete higiênico para cães One Pads Multi 70x60 cm possui 5 camadas de proteção absorvente. A tripla camada de gel absorvente de secagem ultrarrápida garante que não haja vazamentos para o chão, neutralizando o mau cheiro e a proliferação de bactérias. Atrativo canino natural O seu atrativo interno, que incentiva o cão a utilizar o tapete higiênico corretamente, proporciona maior conforto e ajuda no adestramento.Área de absorção maiorO tapete higiênico para cães One Pads Multi 70x60 cm ainda oferece uma ampla área de absorção, o que é ideal para cães de diferentes tamanhos e raças, pois o pet terá mais espaço para usar. E o melhor: o xixi desaparece rapidamente, mantendo a higiene do ambiente.Adesivos de alta fixação com laterais vedantes Os adesivos antibagunça asseguram que o tapete higiênico fixe no chão, evitando que se mova, além de serem fáceis de descolar. Proteja o piso com as laterais do tapete higiênico para cães One Pads Multi 70x60 cm que apresentam vedação completa*Imagens Meramente Ilustrativas*\n",
      "Produto: 'tapete higiênico para cães One Pads Multi 70x60 cm', score: 0.0888, start: 40, end: 90\n",
      "Marca: 'One Pads Multi 70x60 cm', score: 0.6594, start: 67, end: 90\n",
      "\n",
      "A Mochila Executive te oferece conforto, praticidade e design onde você for!Feita em poliéster resistente, possui zíperes reforçados e dois amplos compartimentos, essa mochila está preparada para suportar notebooks de até 15,6” com seu suporte acolchoado.Imagens meramente ilustrativas.\n",
      "Produto: 'Mochila Executive', score: 0.9626, start: 2, end: 19\n",
      "Marca: 'Mochila Executive', score: 0.9356, start: 2, end: 19\n",
      "\n",
      "Smartphones. tablets e outros dispositivos.Haste acolchoada e ajustável proporcionando conforto estendido garantindo ergonomia no uso.Earpads extra macios para melhor conforto e melhor acústica.Porta micro USB. entrada auxiliar. controle de volume embutido. microfone e hands-free.*Imagens Meramente Ilustrativas*Atenção: informações importantes:O que são produtos reembalados?São produtos originais de fábrica. que podem conter algum tipo de avaria. Essas avarias são apenas de aparência. que não afetam a funcionalidade e uso.Produto Reembalado com garantia de 90 dias para vícios ocultos. Não cobrimos eventuais danos estéticos.\n",
      "Produto: '.', score: 0.0316, start: 449, end: 450\n",
      "Marca: '.', score: 0.04, start: 280, end: 281\n",
      "\n",
      "Com a Balança Digital Eat Smart da linha Multilaser Saúde fica fácil manter um peso saudável!Possui design slim para facilitar e proporcionar conforto durante a utilização, é ideal para te auxiliar no controle de peso diário pois possui alta precisão.Com desligamento automático e acionamento por toque;Pés em borracha antiderrapante;Visor LCD. Imagens meramente ilustrativas.   Atenção: informações importantes O que são produtos reembalados?São produtos originais de fábrica que podem conter algum tipo de avaria. Estas avarias são apenas de aparência. que não afetam a funcionalidade e uso.Produto Reembalado com garantia de 90 dias para vícios ocultos. Não cobrimos eventuais danos estéticos.  \n",
      "Produto: 'Balança Digital Eat Smart', score: 0.1664, start: 6, end: 31\n",
      "Marca: 'Multilaser Saúde', score: 0.865, start: 41, end: 57\n",
      "\n",
      "Tablet Multilaser M8 WIFI, é perfeito para o dia a dia!Com design moderno e eficiente, conta com o super processador Quad Core, você pode jogar, ver vídeos, navegar na internet e muito mais, tudo isso ao mesmo tempo e sem travamentos ou lentidão, tudo isso acompanhado do sistema operacional Android 11 GO Edition que permite turbinar seu tablet com milhares de aplicativos no Google Play.Com o modo Kids Space, o visual se adapta às telas maiores. O modo também sugere atividades, livros, vídeos e pode ser personalizado a partir dos gostos da criança — animais, ciência, história, música e muito mais!Imagens meramente ilustrativas.\n",
      "Produto: 'Tablet Multilaser M8 WIFI', score: 0.4308, start: 0, end: 25\n",
      "Marca: 'Multilaser', score: 0.4756, start: 7, end: 17\n",
      "\n",
      "Com a Balança Digital Health USB da linha Multilaser Saúde fica fácil manter um peso saudável!Possui design slim para facilitar e proporcionar conforto durante a utilização, e possui alta precisão para te auxiliar no controle de peso diário. Com desligamento automático; Recarregável via cabo USB;Acionamento por toque;Pés em material antiderrapante;Base em vidro temperado.Imagens meramente ilustrativas.\n",
      "Produto: 'Balança Digital Health USB', score: 0.7492, start: 6, end: 32\n",
      "Marca: 'Multilaser Saúde', score: 0.9266, start: 42, end: 58\n",
      "\n",
      "A Máscara de Proteção da linha Multilaser Saúde foi desenvolvida para minimizar a contaminação por bactérias, vírus e secreções respiratórias.Tripla proteção com filtro;Tamanho único e ajustável;Clipagem nasal (metálico) ajuste perfeito. Chega de óculos embaçados;Polipropileno: atóxico e hipoalérgico que não causa irritações no rosto;Uso único e descartável, não estéril;Registro ANVISA e normas técnicas de acordo com a NBR 15052Índices: EFP =98% | BFE =95%;Imagens meramente Ilustrativas.\n",
      "Produto: 'Máscara de Proteção da linha Multilaser Saúde', score: 0.6154, start: 2, end: 47\n",
      "Marca: 'Multilaser Saúde', score: 0.9228, start: 31, end: 47\n",
      "\n",
      "Sinta a natureza pertinho de você!Óleo extraído da folha, através da destilação a vapor.100% puro e natural.Para usar na aromaterapia, no banho, massagem e no skin care misturado com hidratantes e séruns.Na aromaterapia:Auxilia no combate à insônia, ansiedade e nervosismo.Traz sensação de conforto e segurança.Para pele e cabelos:Reduz manchas na pele.Auxilia na diminuição da retenção de líquidos, celulite, estrias e flacidez.Como usar o óleo essencial de Bergamota?PARA MASSAGEM: Misture algumas gotas com o seu óleo de massagem preferido, como o de côco, jojoba e Argan.PARA AROMATERAPIA: Pingue de 2 a 3 gotas de óleo essencial no local indicado do seu difusor de aromas ou umidificador.PARA O BANHO: Pingue algumas gotas do óleo na sua banheira cheia de águaPARA A PELE: Adicione uma gota do óleo nos produtos preferidos da sua rotina de skin care.AVISO: Uso externo, proibido ingerir. Evite contato direto com os olhos, caso ocorra lave com água em abundância. Não aplique o produto diretamente na pele e sim misturado com outros cremes, hidratantes e séruns.Imagens meramente ilustrativas\n",
      "Produto: 'óleo essencial de Bergamota', score: 0.5647, start: 441, end: 468\n",
      "Marca: 'Bergamota', score: 0.3183, start: 459, end: 468\n",
      "\n"
     ]
    }
   ],
   "source": [
    "for texto in df_filtrado[\"description\"][0:10]:\n",
    "    context = texto\n",
    "    print(context)\n",
    "\n",
    "    question = \"De qual produto está sendo falado?\"\n",
    "\n",
    "    result = nlp(question=question,context=context) #Contexto deve sempre estar preenchido\n",
    "\n",
    "    print(f\"Produto: '{result['answer']}', score: {round(result['score'], 4)}, start: {result['start']}, end: {result['end']}\")\n",
    "\n",
    "    question = \"Qual a marca deste produto?\"\n",
    "    result = nlp(question=question,context=context) #Contexto deve sempre estar preenchido\n",
    "\n",
    "    print(f\"Marca: '{result['answer']}', score: {round(result['score'], 4)}, start: {result['start']}, end: {result['end']}\")\n",
    "    print()"
   ]
  },
  {
   "cell_type": "markdown",
   "metadata": {},
   "source": [
    "___\n",
    "# Rede Neural\n",
    "___"
   ]
  },
  {
   "cell_type": "code",
   "execution_count": 16,
   "metadata": {},
   "outputs": [],
   "source": [
    "def getText(text:str):\n",
    "    if \"setup\" in text.lower():\n",
    "        return text"
   ]
  },
  {
   "cell_type": "code",
   "execution_count": 17,
   "metadata": {},
   "outputs": [
    {
     "data": {
      "text/plain": [
       "0      None\n",
       "1      None\n",
       "2      None\n",
       "3      None\n",
       "4      None\n",
       "       ... \n",
       "245    None\n",
       "246    None\n",
       "247    None\n",
       "248    None\n",
       "249    None\n",
       "Name: description, Length: 250, dtype: object"
      ]
     },
     "execution_count": 17,
     "metadata": {},
     "output_type": "execute_result"
    }
   ],
   "source": [
    "df_filtrado[\"description\"].apply(getText)"
   ]
  },
  {
   "cell_type": "markdown",
   "metadata": {},
   "source": [
    "___\n",
    "# NLP Clássico\n",
    "___"
   ]
  },
  {
   "cell_type": "markdown",
   "metadata": {},
   "source": [
    "impor"
   ]
  },
  {
   "cell_type": "code",
   "execution_count": null,
   "metadata": {},
   "outputs": [],
   "source": [
    "df_filtrado[\"filtered_categories\"].value_counts()"
   ]
  },
  {
   "cell_type": "code",
   "execution_count": 11,
   "metadata": {},
   "outputs": [],
   "source": [
    "def uniqueCategories(categories:pd.Series):\n",
    "    values = []\n",
    "    for category in categories:\n",
    "        values.extend(category)\n",
    "    values = list(set(values))\n",
    "    print(len(values))\n",
    "    print((values))\n"
   ]
  },
  {
   "cell_type": "code",
   "execution_count": 12,
   "metadata": {},
   "outputs": [
    {
     "name": "stdout",
     "output_type": "stream",
     "text": [
      "223\n",
      "['INFORMATICA E TABLETS', 'LAMPADA INTELIGENTE', 'RADIO PARA CARRO', 'PLASTICOS, QUADROS, FLAGS E BLOCOS ADESIVOS', 'CONVERSOR DIGITAL', 'NOKIA', 'CURATIVOS', 'ZTE', 'CADEIRAS PARA AUTO', 'CUIDADOS COM A PELE', 'PIPOQUEIRAS', 'ACESSORIOS AUTOMOTIVO', 'TENS', 'NOTEBOOKS', 'REFIL DE ESCOVA ELETRICA', 'MTB', 'MICROSOFT', 'TRATAMENTO MUSCULAR', 'SECADOR', 'BALANCAS DIGITAIS', 'FONE DE OUVIDO BLUETOOTH', 'TELAS', 'LIMPEZA', 'CHAPINHA', 'PATINETES ELETRICOS MOBILIDADE', 'VELAS AROMATICAS', 'NOSSA COZINHA', 'MULTIKIDSBABY', 'CAMERAS E SENSORES', 'JOGOS DIVERSOS', 'SMART 4K', 'MONITORES', 'MOUSE', 'MULTI E', 'FERRAMENTAS', 'MASCARA ADULTA', 'EARPHONE', 'SMARTPHONE', 'CONTRA INSETOS', 'ROTEADORES', 'PARA PREPARAR', 'MOUSE PAD', 'MIXER', 'CENTRAIS MULTIMIDIA', 'LAR', 'PATINETES ELETRICOS', 'BLOCOS ADESIVOS', 'RESPIRACAO', 'ACESSORIOS PESSOAIS', 'MULTILASER', 'ESTETOSCOPIO SIMPLES', 'HIGIENE E SAUDE', 'TELAS, AUDIO E VIDEO', 'ARTIGOS PARA ESCRITORIO', 'BOLSAS, MOCHILAS, CASES E PASTAS', 'SUPRIMENTOS PARA IMPRESSAO', 'MIDIAS E PENDRIVE', 'CAIXAS DE SOM', 'FIO DENTAL', 'APARADORES DE PELOS', 'LITET', 'CUIDADO ANIMAL', 'ULTRA NOTEBOOKS 400 SERIES', 'OBABOX', 'FUNCIONAL', 'HIGIENE BUCAL', 'INFORMATICA E ACESSORIOS', 'CAMERA DE RE', 'SONY', \"DVD'S\", 'SMARTWATCHES', 'COOLER PARA NOTEBOOK', 'BICICLETAS ELETRICAS', 'TELAS E VIDEO', 'MOUSE SEM FIO', 'RAPOO', 'TOSHIBA', 'ACESSORIOS E COMPONENTES', 'VENTILADORES E AQUECEDORES', 'LAPIS, APONTADORES E CANETAS', 'IRRIGADOR ORAL', 'SMARTWATCH GPS BLUETOOTH', 'FITAS KINESIO', 'TABLETS', 'ULTRA NOTEBOOKS 200 SERIES', 'MATERIAIS DE ESCRITA', 'OLEOS ESSENCIAIS', 'VENTILADORES DE MESA', 'OXIMETRO', 'SANDUICHEIRAS', 'BELEZA', 'FISHER PRICE', 'EXTRATORES, GRAMPEADORES E PERFURADORES', 'SMARTWATCH', 'MASCARAS DE PROTECAO', 'CARREGADORES, CABOS E FONTES', 'TERMOMETRO DIGITAL', 'DVD PLAYER', 'PROCESSADORES DE ALIMENTOS', 'MASSAGEADOR DE CORPO', 'BLUE', 'MOBILIDADE', 'CELULARES', 'SAUDE E BEM ESTAR', 'PET SHOP', 'CHURRASQUEIRAS', 'ELETROPORTATEIS PARA SUA CASA', 'ESPORTES', 'BRINQUEDOS', 'FURADEIRAS E PARAFUSADEIRAS', 'CARDIOVASCULAR', 'NOISE CANCELLING', 'ESTAR BEM', 'AUTOMACAO', 'LINHA VITA', 'BIKE SPINNING', 'ROSTO', 'ESTETOSCOPIOS', 'SOM AUTOMOTIVO', 'BEBE CONFORTO', 'SERINGAS SEM AGULHAS', 'AUTOMOTIVO', 'WARRIOR', 'TOUCA DESCARTAVEL', 'TECLADO COM FIO', 'ESCOVA SECADORA', 'MEMORIAS E SSD', 'HEADSET', 'CARREGADORES E SUPORTES', 'MOUSES', 'SMARTPHONES', 'LIQUIDIFICADORES', 'CORPO', 'TV BOX', 'ESCOVA ELETRICA', 'SPEAKER', 'UTENSILIOS DOMESTICOS', 'LIXEIRAS ELETRONICAS', 'HIGIENE E CUIDADO', 'MEDICO-HOSPITALAR', 'BALANCAS DIGITAIS COM BIOIMPEDANCIA', 'REDES', 'MULTI G', 'CASA CONECTADA', 'MULTI CARE', 'DIFUSOR DE AROMAS', 'COMPUTADORES E NOTEBOOKS', 'MATA INSETOS ELETRICO', 'PAPEIS', 'AVENTAIS, TOUCAS E LUVAS', 'BOLSAS TERMICAS', 'TELEFONE', 'FRITADEIRAS ELETRICAS', 'FITNESS', 'PARAFUSO', 'MASS', 'LUVA NITRILICA', 'KEEP', 'LANCETAS DE SEGURANCA', 'GRILL', 'PROJETORES', 'ESCRITORIO E PAPELARIA', 'GATOS', 'JOGOS', 'SMARTPHONES E CELULARES', 'CONTROLE REMOTO', 'HEADPHONE', 'FITNESS E PILATES', 'BEBES', 'HIGIENE', 'DIVERSAO E LAZER', 'RAQUETE ELETRICA', 'MULTI H', 'SOUND BAR', 'COZINHA', 'VENTILADORES', 'BARBEARIA', 'UTENSILIOS PARA COZINHA', 'SMARTWATCH INFANTIL', 'MOCHILAS', 'ORGANIZADORES', 'FERROS DE PASSAR', 'FONES DE OUVIDO', 'COMBOS SEM FIO', 'MIMO', 'PULSESOUND', 'YOGA E PILATES', 'MONITORES DE PRESSAO DE PULSO', 'MULTIKIDS', 'GAMER', 'ESPORTE E LAZER', 'PANELAS ELETRICAS', 'UMIDIFICADOR DE AR', 'PRESSAO', 'ACESSORIOS PARA CARRO', 'OUTDOOR', 'ILUMINACAO', 'CHALEIRAS', 'CACHORROS', 'PASSEIO', 'AROMATERAPIA', 'FORNOS ELETRICOS', 'INALADOR MESH', 'SMARTWATCH SEM GPS', 'TEMPERATURA', 'COMPUTADOR', 'PRIMEIROS SOCORROS', 'AUDIO', 'CABELO', 'ACESSORIOS', 'TECLADOS', 'ASPIRADORES', 'SERINGAS DE INSULINA', 'TAPETE HIGIENICO', 'TABLET', 'ATRIO', 'VAPORIZADORES', 'CONTROLE DO PESO', 'PARA EXAMES', 'TERMOMETRO INFRAVERMELHO', 'WELLNESS', 'CADEIRAS', 'ULTRA COMPUTADORES']\n"
     ]
    }
   ],
   "source": [
    "uniqueCategories(df_filtrado[\"filtered_categories\"])"
   ]
  }
 ],
 "metadata": {
  "kernelspec": {
   "display_name": "proj",
   "language": "python",
   "name": "python3"
  },
  "language_info": {
   "codemirror_mode": {
    "name": "ipython",
    "version": 3
   },
   "file_extension": ".py",
   "mimetype": "text/x-python",
   "name": "python",
   "nbconvert_exporter": "python",
   "pygments_lexer": "ipython3",
   "version": "3.11.5"
  },
  "orig_nbformat": 4
 },
 "nbformat": 4,
 "nbformat_minor": 2
}
